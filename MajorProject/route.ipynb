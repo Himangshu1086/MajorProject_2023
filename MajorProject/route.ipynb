{
 "cells": [
  {
   "cell_type": "code",
   "execution_count": 2,
   "metadata": {},
   "outputs": [
    {
     "name": "stdout",
     "output_type": "stream",
     "text": [
      "Note: you may need to restart the kernel to use updated packages.\n"
     ]
    },
    {
     "name": "stderr",
     "output_type": "stream",
     "text": [
      "WARNING: You are using pip version 21.1.1; however, version 22.2.2 is available.\n",
      "You should consider upgrading via the 'f:\\REPOSITORY\\major_project\\env\\Scripts\\python.exe -m pip install --upgrade pip' command.\n"
     ]
    }
   ],
   "source": [
    "pip install folium --quiet\n",
    "pip install pandas numpy matplotlib --quiet"
   ]
  },
  {
   "cell_type": "code",
   "execution_count": 55,
   "metadata": {},
   "outputs": [],
   "source": [
    "import pandas as pd\n",
    "stages_data = pd.read_csv(\"Route-U102.csv\")"
   ]
  },
  {
   "cell_type": "code",
   "execution_count": 56,
   "metadata": {},
   "outputs": [
    {
     "data": {
      "text/html": [
       "<div>\n",
       "<style scoped>\n",
       "    .dataframe tbody tr th:only-of-type {\n",
       "        vertical-align: middle;\n",
       "    }\n",
       "\n",
       "    .dataframe tbody tr th {\n",
       "        vertical-align: top;\n",
       "    }\n",
       "\n",
       "    .dataframe thead th {\n",
       "        text-align: right;\n",
       "    }\n",
       "</style>\n",
       "<table border=\"1\" class=\"dataframe\">\n",
       "  <thead>\n",
       "    <tr style=\"text-align: right;\">\n",
       "      <th></th>\n",
       "      <th>Route - U102</th>\n",
       "      <th>SOG COLONY TO SHAMANUR</th>\n",
       "      <th>Unnamed: 2</th>\n",
       "      <th>Unnamed: 3</th>\n",
       "    </tr>\n",
       "  </thead>\n",
       "  <tbody>\n",
       "    <tr>\n",
       "      <th>0</th>\n",
       "      <td>NaN</td>\n",
       "      <td>Stops</td>\n",
       "      <td>Lat</td>\n",
       "      <td>Long</td>\n",
       "    </tr>\n",
       "    <tr>\n",
       "      <th>1</th>\n",
       "      <td>Stage</td>\n",
       "      <td>SOG COLONY</td>\n",
       "      <td>14.427362</td>\n",
       "      <td>75.94025</td>\n",
       "    </tr>\n",
       "    <tr>\n",
       "      <th>2</th>\n",
       "      <td>Stage</td>\n",
       "      <td>SS HOSPITAL</td>\n",
       "      <td>14.432749</td>\n",
       "      <td>75.940659</td>\n",
       "    </tr>\n",
       "    <tr>\n",
       "      <th>3</th>\n",
       "      <td>NaN</td>\n",
       "      <td>SS HOSPITAL Rd</td>\n",
       "      <td>14.437659</td>\n",
       "      <td>75.939536</td>\n",
       "    </tr>\n",
       "    <tr>\n",
       "      <th>4</th>\n",
       "      <td>NaN</td>\n",
       "      <td>Sai Baba Temple</td>\n",
       "      <td>14.438804</td>\n",
       "      <td>75.938658</td>\n",
       "    </tr>\n",
       "  </tbody>\n",
       "</table>\n",
       "</div>"
      ],
      "text/plain": [
       "  Route - U102 SOG COLONY TO SHAMANUR Unnamed: 2 Unnamed: 3\n",
       "0          NaN                  Stops        Lat       Long\n",
       "1        Stage             SOG COLONY  14.427362   75.94025\n",
       "2        Stage            SS HOSPITAL  14.432749  75.940659\n",
       "3          NaN         SS HOSPITAL Rd  14.437659  75.939536\n",
       "4          NaN        Sai Baba Temple  14.438804  75.938658"
      ]
     },
     "execution_count": 56,
     "metadata": {},
     "output_type": "execute_result"
    }
   ],
   "source": [
    "stages_data.head()"
   ]
  },
  {
   "cell_type": "code",
   "execution_count": 57,
   "metadata": {},
   "outputs": [],
   "source": [
    "stops = stages_data.iloc[1:,1:]"
   ]
  },
  {
   "cell_type": "code",
   "execution_count": 59,
   "metadata": {},
   "outputs": [
    {
     "data": {
      "text/html": [
       "<div>\n",
       "<style scoped>\n",
       "    .dataframe tbody tr th:only-of-type {\n",
       "        vertical-align: middle;\n",
       "    }\n",
       "\n",
       "    .dataframe tbody tr th {\n",
       "        vertical-align: top;\n",
       "    }\n",
       "\n",
       "    .dataframe thead th {\n",
       "        text-align: right;\n",
       "    }\n",
       "</style>\n",
       "<table border=\"1\" class=\"dataframe\">\n",
       "  <thead>\n",
       "    <tr style=\"text-align: right;\">\n",
       "      <th></th>\n",
       "      <th>stops</th>\n",
       "      <th>Lat</th>\n",
       "      <th>Long</th>\n",
       "    </tr>\n",
       "  </thead>\n",
       "  <tbody>\n",
       "    <tr>\n",
       "      <th>1</th>\n",
       "      <td>SOG COLONY</td>\n",
       "      <td>14.427362</td>\n",
       "      <td>75.94025</td>\n",
       "    </tr>\n",
       "    <tr>\n",
       "      <th>2</th>\n",
       "      <td>SS HOSPITAL</td>\n",
       "      <td>14.432749</td>\n",
       "      <td>75.940659</td>\n",
       "    </tr>\n",
       "    <tr>\n",
       "      <th>3</th>\n",
       "      <td>SS HOSPITAL Rd</td>\n",
       "      <td>14.437659</td>\n",
       "      <td>75.939536</td>\n",
       "    </tr>\n",
       "    <tr>\n",
       "      <th>4</th>\n",
       "      <td>Sai Baba Temple</td>\n",
       "      <td>14.438804</td>\n",
       "      <td>75.938658</td>\n",
       "    </tr>\n",
       "    <tr>\n",
       "      <th>5</th>\n",
       "      <td>SS hitech layout</td>\n",
       "      <td>14.440534</td>\n",
       "      <td>75.937227</td>\n",
       "    </tr>\n",
       "  </tbody>\n",
       "</table>\n",
       "</div>"
      ],
      "text/plain": [
       "              stops        Lat       Long\n",
       "1        SOG COLONY  14.427362   75.94025\n",
       "2       SS HOSPITAL  14.432749  75.940659\n",
       "3    SS HOSPITAL Rd  14.437659  75.939536\n",
       "4   Sai Baba Temple  14.438804  75.938658\n",
       "5  SS hitech layout  14.440534  75.937227"
      ]
     },
     "execution_count": 59,
     "metadata": {},
     "output_type": "execute_result"
    }
   ],
   "source": [
    "stops.rename(columns = {'SOG COLONY TO SHAMANUR':'stops', 'Unnamed: 2':'Lat','Unnamed: 3':'Long'}, inplace = True)\n",
    "stops.head()"
   ]
  },
  {
   "cell_type": "code",
   "execution_count": 60,
   "metadata": {},
   "outputs": [],
   "source": [
    "import folium"
   ]
  },
  {
   "cell_type": "code",
   "execution_count": 61,
   "metadata": {},
   "outputs": [],
   "source": [
    "mp = folium.Map(location=[14.427362,75.94025] , zoom_start=14)\n",
    "tooltip  ='Click for more info'"
   ]
  },
  {
   "cell_type": "code",
   "execution_count": 62,
   "metadata": {},
   "outputs": [
    {
     "name": "stdout",
     "output_type": "stream",
     "text": [
      "SOG COLONY\n",
      "SS HOSPITAL\n",
      "SS HOSPITAL Rd\n",
      "Sai Baba Temple\n",
      "SS hitech layout\n",
      "SJAYANAGARA\n",
      "Jayanagara B Block\n",
      "Kalidasa circle\n",
      "Church Jayanagara\n",
      "SBHAGI/KALI\n",
      "Sakthi Nagar\n",
      "Banashankri temple\n",
      "DCM 2nd stop\n",
      "DCM 2nd stop\n",
      "DCM water tank\n",
      "Boomika Nagar\n",
      "DCM\n",
      "APMC Gate\n",
      "KSRTC NEW BUS Stand\n",
      "Aahar\n",
      "Old Bus Stand\n",
      "Railway station\n",
      "Harihar bus stop\n",
      "KSRTC Temporary Bus stand\n",
      "AVK College\n",
      "SKEB/VBHAVAN\n",
      "Shamnur rd\n",
      "CGHOSPITAL\n",
      "Water Tank\n",
      "LAKSHMIFLOO\n",
      "SS Mall\n",
      "Karnataka Bank\n",
      "Bapuji samuthaya Bhavan\n",
      "Bottle Building\n",
      "SHAMANUR\n"
     ]
    }
   ],
   "source": [
    "for ind in stops.index:\n",
    "    print(stops['stops'][ind])"
   ]
  },
  {
   "cell_type": "code",
   "execution_count": 63,
   "metadata": {},
   "outputs": [],
   "source": [
    "radi = 800\n",
    "for ind in stops.index:\n",
    "    folium.Marker([stops['Lat'][ind] , stops['Long'][ind]],tooltip=stops['stops'][ind]).add_to(mp)\n",
    "    folium.Circle([stops['Lat'][ind] , stops['Long'][ind]],\n",
    "                        radius=radi\n",
    "                    ).add_to(mp)"
   ]
  },
  {
   "cell_type": "code",
   "execution_count": null,
   "metadata": {},
   "outputs": [],
   "source": [
    "mp.save(\"map.html\")"
   ]
  },
  {
   "cell_type": "code",
   "execution_count": null,
   "metadata": {},
   "outputs": [],
   "source": []
  },
  {
   "cell_type": "code",
   "execution_count": 21,
   "metadata": {},
   "outputs": [],
   "source": []
  }
 ],
 "metadata": {
  "kernelspec": {
   "display_name": "Python 3.9.5 ('env': venv)",
   "language": "python",
   "name": "python3"
  },
  "language_info": {
   "codemirror_mode": {
    "name": "ipython",
    "version": 3
   },
   "file_extension": ".py",
   "mimetype": "text/x-python",
   "name": "python",
   "nbconvert_exporter": "python",
   "pygments_lexer": "ipython3",
   "version": "3.9.5"
  },
  "orig_nbformat": 4,
  "vscode": {
   "interpreter": {
    "hash": "345bd55de26c282108d7a53c90a101841edd79222caff9993c6e9d5767c9b554"
   }
  }
 },
 "nbformat": 4,
 "nbformat_minor": 2
}
